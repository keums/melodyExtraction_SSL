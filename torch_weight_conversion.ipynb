{
 "metadata": {
  "language_info": {
   "codemirror_mode": {
    "name": "ipython",
    "version": 3
   },
   "file_extension": ".py",
   "mimetype": "text/x-python",
   "name": "python",
   "nbconvert_exporter": "python",
   "pygments_lexer": "ipython3",
   "version": "3.6.11-final"
  },
  "orig_nbformat": 2,
  "kernelspec": {
   "name": "python361164bit3aacfbc5ce1d45a7860a65ab2586d2ee",
   "display_name": "Python 3.6.11 64-bit",
   "language": "python"
  }
 },
 "nbformat": 4,
 "nbformat_minor": 2,
 "cells": [
  {
   "cell_type": "code",
   "execution_count": 2,
   "metadata": {},
   "outputs": [
    {
     "output_type": "stream",
     "name": "stderr",
     "text": [
      "Using TensorFlow backend.\n"
     ]
    }
   ],
   "source": [
    "from model import melody_ResNet\n",
    "from model_torch import Melody_ResNet\n",
    "import torch\n",
    "import numpy as np"
   ]
  },
  {
   "cell_type": "code",
   "execution_count": 3,
   "metadata": {},
   "outputs": [],
   "source": [
    "keras_model = melody_ResNet()\n",
    "keras_model.load_weights('./weights/ResNet_NS.hdf5')\n"
   ]
  },
  {
   "cell_type": "code",
   "execution_count": 4,
   "metadata": {
    "tags": []
   },
   "outputs": [],
   "source": [
    "total_weights = []\n",
    "for layer in keras_model.layers:\n",
    "    weights = layer.get_weights()\n",
    "    if weights != []:\n",
    "        total_weights.append({'name': layer.name, 'weights': weights })"
   ]
  },
  {
   "cell_type": "code",
   "execution_count": 5,
   "metadata": {},
   "outputs": [
    {
     "output_type": "execute_result",
     "data": {
      "text/plain": [
       "34"
      ]
     },
     "metadata": {},
     "execution_count": 5
    }
   ],
   "source": [
    "len(total_weights)"
   ]
  },
  {
   "cell_type": "code",
   "execution_count": 6,
   "metadata": {},
   "outputs": [
    {
     "output_type": "stream",
     "name": "stdout",
     "text": [
      "[(0, 'conv_s1_1x1'), (1, 'batch_normalization_1'), (2, 'conv1_1'), (3, 'batch_normalization_2'), (4, 'conv1_2'), (5, 'batch_normalization_3'), (6, 'conv_f1_1x1'), (7, 'batch_normalization_4'), (8, 'conv_s2_1x1'), (9, 'batch_normalization_5'), (10, 'conv2_1'), (11, 'batch_normalization_6'), (12, 'conv2_2'), (13, 'batch_normalization_7'), (14, 'conv_f2_1x1'), (15, 'batch_normalization_8'), (16, 'conv_s3_1x1'), (17, 'batch_normalization_9'), (18, 'conv3_1'), (19, 'batch_normalization_10'), (20, 'conv3_2'), (21, 'batch_normalization_11'), (22, 'conv_f3_1x1'), (23, 'batch_normalization_12'), (24, 'conv_s4_1x1'), (25, 'batch_normalization_13'), (26, 'conv4_1'), (27, 'batch_normalization_14'), (28, 'conv4_2'), (29, 'batch_normalization_15'), (30, 'conv_f4_1x1'), (31, 'batch_normalization_16'), (32, 'bidirectional_1'), (33, 'time_distributed_1')]\n"
     ]
    }
   ],
   "source": [
    "print([(i, x['name']) for i,x in enumerate(total_weights)])"
   ]
  },
  {
   "cell_type": "code",
   "execution_count": 9,
   "metadata": {},
   "outputs": [],
   "source": [
    "torch_model = Melody_ResNet()\n",
    "\n",
    "for i in range(4):\n",
    "    block_weights = total_weights[i*8:(i+1)*8]\n",
    "    for j in range(4):\n",
    "        getattr(torch_model.block[i], f'conv{j+1}').conv.weight.data = torch.from_numpy(np.transpose(block_weights[j*2]['weights'][0], (3, 2, 0, 1)))\n",
    "        getattr(torch_model.block[i], f'conv{j+1}').bn.weight.data = torch.from_numpy(block_weights[j*2+1]['weights'][0])\n",
    "        getattr(torch_model.block[i], f'conv{j+1}').bn.bias.data = torch.from_numpy(block_weights[j*2+1]['weights'][1])\n",
    "        getattr(torch_model.block[i], f'conv{j+1}').bn.running_mean.data = torch.from_numpy(block_weights[j*2+1]['weights'][2])\n",
    "        getattr(torch_model.block[i], f'conv{j+1}').bn.running_var.data = torch.from_numpy(block_weights[j*2+1]['weights'][3])\n",
    "\n",
    "lstm_weight_name = ['weight_ih_l0',\n",
    " 'weight_hh_l0',\n",
    " 'bias_ih_l0',\n",
    " 'bias_hh_l0',\n",
    " 'weight_ih_l0_reverse',\n",
    " 'weight_hh_l0_reverse',\n",
    " 'bias_ih_l0_reverse',\n",
    " 'bias_hh_l0_reverse']\n",
    "keras_lstm_index = [0,1,2,2,3,4,5,5]\n",
    "\n",
    "for i, name in enumerate(lstm_weight_name):\n",
    "    if i in (0,1,4,5):\n",
    "        getattr(torch_model.lstm, name).data = torch.from_numpy(np.transpose(total_weights[-2]['weights'][keras_lstm_index[i]]))\n",
    "    else:\n",
    "        weight = total_weights[-2]['weights'][keras_lstm_index[i]]\n",
    "        getattr(torch_model.lstm, name).data = torch.from_numpy(weight) / 2\n",
    "\n",
    "\n",
    "torch_model.final.weight.data = torch.from_numpy(np.transpose(total_weights[-1]['weights'][0]))\n",
    "\n",
    "torch_model.final.bias.data = torch.from_numpy(total_weights[-1]['weights'][1])\n",
    "\n",
    "torch.save(torch_model.state_dict(), 'torch_weights.pt')\n"
   ]
  },
  {
   "cell_type": "code",
   "execution_count": 125,
   "metadata": {},
   "outputs": [],
   "source": []
  },
  {
   "cell_type": "code",
   "execution_count": 122,
   "metadata": {},
   "outputs": [
    {
     "output_type": "execute_result",
     "data": {
      "text/plain": [
       "(64, 64, 3, 3)"
      ]
     },
     "metadata": {},
     "execution_count": 122
    }
   ],
   "source": [
    "np.transpose(total_weights[4]['weights'][0]).shape"
   ]
  },
  {
   "cell_type": "code",
   "execution_count": 91,
   "metadata": {},
   "outputs": [
    {
     "output_type": "execute_result",
     "data": {
      "text/plain": [
       "torch.Size([64, 1, 1, 1, 1])"
      ]
     },
     "metadata": {},
     "execution_count": 91
    }
   ],
   "source": [
    "state_dict['block.0.conv1.conv.weight'].shape"
   ]
  },
  {
   "cell_type": "code",
   "execution_count": 5,
   "metadata": {},
   "outputs": [],
   "source": [
    "# vars(torch_model.lstm)\n",
    "\n",
    "# print([x.shape for x in total_weights[-2]['weights']])\n",
    "# total_weights[-2]['weights'][0].shape\n",
    "# lstm_weight_name"
   ]
  },
  {
   "cell_type": "code",
   "execution_count": 3,
   "metadata": {},
   "outputs": [],
   "source": [
    "# vars(keras_model.layers[-3])"
   ]
  },
  {
   "cell_type": "code",
   "execution_count": 2,
   "metadata": {},
   "outputs": [],
   "source": [
    "# vars(keras_model.layers[-3].forward_layer.cell)\n"
   ]
  },
  {
   "cell_type": "code",
   "execution_count": null,
   "metadata": {},
   "outputs": [],
   "source": []
  }
 ]
}